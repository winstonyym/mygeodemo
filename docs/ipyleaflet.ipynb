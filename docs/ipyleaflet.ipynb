{
 "cells": [
  {
   "cell_type": "markdown",
   "id": "19d49029-b558-4900-be27-846fe51c313b",
   "metadata": {},
   "source": [
    "## Usage example"
   ]
  },
  {
   "cell_type": "code",
   "execution_count": 3,
   "id": "aecc8b43-5318-4ff4-9fae-0cad2343e116",
   "metadata": {},
   "outputs": [
    {
     "ename": "ModuleNotFoundError",
     "evalue": "No module named 'mygeodemo'",
     "output_type": "error",
     "traceback": [
      "\u001b[0;31m---------------------------------------------------------------------------\u001b[0m",
      "\u001b[0;31mModuleNotFoundError\u001b[0m                       Traceback (most recent call last)",
      "Input \u001b[0;32mIn [3]\u001b[0m, in \u001b[0;36m<cell line: 1>\u001b[0;34m()\u001b[0m\n\u001b[0;32m----> 1\u001b[0m \u001b[38;5;28;01mfrom\u001b[39;00m \u001b[38;5;21;01mmygeodemo\u001b[39;00m \u001b[38;5;28;01mimport\u001b[39;00m LeafMap\n",
      "\u001b[0;31mModuleNotFoundError\u001b[0m: No module named 'mygeodemo'"
     ]
    }
   ],
   "source": [
    "from mygeodemo import LeafMap"
   ]
  },
  {
   "cell_type": "code",
   "execution_count": null,
   "id": "1abf0531-037b-464e-986c-895b8bf67003",
   "metadata": {},
   "outputs": [],
   "source": [
    "m = LeafMap()\n",
    "m"
   ]
  }
 ],
 "metadata": {
  "kernelspec": {
   "display_name": "Python 3 (ipykernel)",
   "language": "python",
   "name": "python3"
  },
  "language_info": {
   "codemirror_mode": {
    "name": "ipython",
    "version": 3
   },
   "file_extension": ".py",
   "mimetype": "text/x-python",
   "name": "python",
   "nbconvert_exporter": "python",
   "pygments_lexer": "ipython3",
   "version": "3.8.10"
  }
 },
 "nbformat": 4,
 "nbformat_minor": 5
}
