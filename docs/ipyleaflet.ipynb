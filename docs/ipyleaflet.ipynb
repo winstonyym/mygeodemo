{
 "cells": [
  {
   "cell_type": "markdown",
   "id": "19d49029-b558-4900-be27-846fe51c313b",
   "metadata": {},
   "source": [
    "## Usage example"
   ]
  },
  {
   "cell_type": "code",
   "execution_count": 1,
   "id": "aecc8b43-5318-4ff4-9fae-0cad2343e116",
   "metadata": {},
   "outputs": [],
   "source": [
    "from mygeodemo import LeafMap"
   ]
  },
  {
   "cell_type": "code",
   "execution_count": 2,
   "id": "1abf0531-037b-464e-986c-895b8bf67003",
   "metadata": {},
   "outputs": [],
   "source": [
    "m = LeafMap()\n",
    "m"
   ]
  }
 ],
 "metadata": {
  "kernelspec": {
   "display_name": "mygeodemo",
   "language": "python",
   "name": "mygeodemo"
  },
  "language_info": {
   "codemirror_mode": {
    "name": "ipython",
    "version": 3
   },
   "file_extension": ".py",
   "mimetype": "text/x-python",
   "name": "python",
   "nbconvert_exporter": "python",
   "pygments_lexer": "ipython3",
   "version": "3.8.8"
  }
 },
 "nbformat": 4,
 "nbformat_minor": 5
}
